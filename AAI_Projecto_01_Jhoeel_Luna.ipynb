{
  "cells": [
    {
      "cell_type": "markdown",
      "metadata": {
        "id": "m5wKfyPk5GG5"
      },
      "source": [
        "# AnyoneAI - Project I - JHOEEL LUNA\n",
        "# An analysis of NBA players in the 2021/2022 season"
      ]
    },
    {
      "cell_type": "markdown",
      "metadata": {
        "id": "atbwrsCF5GG9"
      },
      "source": [
        "##1. Collecting information for building our dataset"
      ]
    },
    {
      "cell_type": "markdown",
      "metadata": {
        "id": "POlUaQ0s5GG-"
      },
      "source": [
        "1.1- Create a function to find all ACTIVE players, meaning players that are listed with a team in the 2021/2022 season. For now you only need the player id, name, and team. Save the dataframe to a csv named \"nba_current_players_list.csv\". The function should return the dataframe.\n",
        "\n",
        "Hint: you should find an API method that can give you a list of players in just one call, this way we can filter those players we're interested in, and later will make calls for each specific player.\n",
        "\n",
        "Consider dropping:\n",
        "- All players with TEAM_ID == 0\n",
        "- All players with GAMES_PLAYED_FLAG == N\n",
        "- Players with id 1630597 & 1630492 (These guys are a problem ;))"
      ]
    },
    {
      "cell_type": "code",
      "source": [
        "%pip install nba_api"
      ],
      "metadata": {
        "colab": {
          "base_uri": "https://localhost:8080/"
        },
        "id": "tzAU5Z_dp7lB",
        "outputId": "4790b915-047d-4d99-8704-f63bc3a5e5c6"
      },
      "execution_count": null,
      "outputs": [
        {
          "output_type": "stream",
          "name": "stdout",
          "text": [
            "Requirement already satisfied: nba_api in /usr/local/lib/python3.10/dist-packages (1.2.1)\n",
            "Requirement already satisfied: numpy<2.0.0,>=1.22.2 in /usr/local/lib/python3.10/dist-packages (from nba_api) (1.22.4)\n",
            "Requirement already satisfied: requests in /usr/local/lib/python3.10/dist-packages (from nba_api) (2.27.1)\n",
            "Requirement already satisfied: urllib3<1.27,>=1.21.1 in /usr/local/lib/python3.10/dist-packages (from requests->nba_api) (1.26.16)\n",
            "Requirement already satisfied: certifi>=2017.4.17 in /usr/local/lib/python3.10/dist-packages (from requests->nba_api) (2023.7.22)\n",
            "Requirement already satisfied: charset-normalizer~=2.0.0 in /usr/local/lib/python3.10/dist-packages (from requests->nba_api) (2.0.12)\n",
            "Requirement already satisfied: idna<4,>=2.5 in /usr/local/lib/python3.10/dist-packages (from requests->nba_api) (3.4)\n"
          ]
        }
      ]
    },
    {
      "cell_type": "code",
      "execution_count": null,
      "metadata": {
        "id": "C_wEZrOA5GG_"
      },
      "outputs": [],
      "source": [
        "import pandas as pd\n",
        "import numpy as np\n",
        "import time\n",
        "import seaborn as sns\n",
        "import matplotlib.pyplot as plt"
      ]
    },
    {
      "cell_type": "code",
      "execution_count": null,
      "metadata": {
        "id": "aZh0mbC45GHA"
      },
      "outputs": [],
      "source": [
        "### Complete in this cell: get all active players from the api\n",
        "def get_and_save_players_list():\n",
        "  \"\"\"This function fetchs the players list from the 'commonallplayers' endpoint\n",
        "\n",
        "  :return: Pandas Dataframe\n",
        "  \"\"\"\n",
        "\n",
        "  from nba_api.stats.endpoints import commonallplayers\n",
        "\n",
        "  all_players = commonallplayers.CommonAllPlayers()\n",
        "  df = all_players.common_all_players.get_data_frame()\n",
        "  # Drops players without a team, no games played flag and players with id 1630597 and id 1630492\n",
        "  df = df[(df.TEAM_ID != 0) & (df.GAMES_PLAYED_FLAG != 'N') & (df.PERSON_ID != 1630597) & (df.PERSON_ID != 1630492)]\n",
        "  # resets index\n",
        "  df = df.reset_index(drop=True)\n",
        "\n",
        "  return df"
      ]
    },
    {
      "cell_type": "code",
      "execution_count": null,
      "metadata": {
        "id": "bDYE5PrJ5GHA"
      },
      "outputs": [],
      "source": [
        "current_players_list = get_and_save_players_list()\n",
        "current_players_list.to_csv(\"nba_current_players_list.csv\")"
      ]
    },
    {
      "cell_type": "markdown",
      "metadata": {
        "id": "-dTXRS6d5GHB"
      },
      "source": [
        "*Don't change anything in this cell, just make it run correctly*"
      ]
    },
    {
      "cell_type": "code",
      "execution_count": null,
      "metadata": {
        "id": "lgPrljnB5GHC",
        "colab": {
          "base_uri": "https://localhost:8080/"
        },
        "outputId": "b200faea-9c60-4a9c-caac-912366699f7c"
      },
      "outputs": [
        {
          "output_type": "stream",
          "name": "stdout",
          "text": [
            "Success!\n"
          ]
        }
      ],
      "source": [
        "if current_players_list.shape == (503, 16):\n",
        "    print('Success!')\n",
        "else:\n",
        "    raise ValueError('The shape is incorrect, please review your function')"
      ]
    },
    {
      "cell_type": "markdown",
      "metadata": {
        "id": "3KL4hG7v5GHD"
      },
      "source": [
        "1.2- Create a function to find the personal information of all players listed in the dataframe created in the previous step, and save it to a csv file named \"nba_players_personal_info.csv\". The function should also return the created dataframe.\n",
        "\n",
        "OPTIONAL: iterating on a list of players and making API calls can be complex and full of errors, try a code block that handles exceptions (for example a timeout from the API) and returns the partial result before it failed, you could also save the partial information to disk."
      ]
    },
    {
      "cell_type": "code",
      "execution_count": null,
      "metadata": {
        "id": "wqihkGqZ5GHD"
      },
      "outputs": [],
      "source": [
        "### Complete in this cell: Find players personal information (name, age, dob, etc), store the information in a CSV file.\n",
        "def get_players_personal_information(aList):\n",
        "  \"\"\"This function fetchs the players list from the 'commonplayerinfo' endpoint using a listed players in a dataframe\n",
        "\n",
        "    :return: Pandas Dataframe\n",
        "  \"\"\"\n",
        "\n",
        "  aList = current_players_list['PERSON_ID'].tolist()\n",
        "\n",
        "  from nba_api.stats.endpoints import commonplayerinfo\n",
        "\n",
        "  frames = []\n",
        "\n",
        "  # The code below iterates over the list of players in order to make API calls of each players personal information\n",
        "  for element in aList:\n",
        "    players_info = commonplayerinfo.CommonPlayerInfo(player_id=element)\n",
        "    df = players_info.get_data_frames()[0]\n",
        "    frames.append(df)\n",
        "    result = pd.concat(frames)\n",
        "    # The statement below suspends the execution for the given number of seconds\n",
        "    time.sleep(0.4)\n",
        "\n",
        "  return result.reset_index(drop=True)"
      ]
    },
    {
      "cell_type": "code",
      "execution_count": null,
      "metadata": {
        "id": "P6i88Kit5GHE"
      },
      "outputs": [],
      "source": [
        "players_personal_info = get_players_personal_information(current_players_list)\n",
        "players_personal_info.to_csv(\"nba_players_personal_info.csv\")"
      ]
    },
    {
      "cell_type": "markdown",
      "metadata": {
        "id": "bXhqWYJN5GHE"
      },
      "source": [
        "Don't change anything in this cell, just make it run correctly"
      ]
    },
    {
      "cell_type": "code",
      "execution_count": null,
      "metadata": {
        "id": "EyYo_PP05GHF"
      },
      "outputs": [],
      "source": [
        "if players_personal_info.shape == (503, 33):\n",
        "    print('Success!')\n",
        "else:\n",
        "    raise ValueError('The shape is incorrect, please review your function')"
      ]
    },
    {
      "cell_type": "markdown",
      "metadata": {
        "id": "OahBqA3u5GHF"
      },
      "source": [
        "1.3- Create a function to find players career statistics, store the information in a CSV file called \"nba_players_career_stats.csv\""
      ]
    },
    {
      "cell_type": "code",
      "execution_count": null,
      "metadata": {
        "id": "MpSU1OLk5GHF"
      },
      "outputs": [],
      "source": [
        "### Complete in this cell: find players career stats, save to csv file\n",
        "def get_players_career_stats(current_players_list):\n",
        "  \"\"\"This function fetchs the players list from the 'playercareerstats' endpoint using a listed players in a dataframe\n",
        "\n",
        "    :return: Pandas Dataframe\n",
        "  \"\"\"\n",
        "\n",
        "  aList = current_players_list['PERSON_ID'].tolist()\n",
        "\n",
        "  from nba_api.stats.endpoints import playercareerstats\n",
        "\n",
        "  frames = []\n",
        "\n",
        "  # The code below iterates over the list of players in order to make API calls of each players statistics\n",
        "  for element in aList:\n",
        "    players_stats = playercareerstats.PlayerCareerStats(player_id=element)\n",
        "    df = players_stats.get_data_frames()[1]\n",
        "    frames.append(df)\n",
        "    result = pd.concat(frames)\n",
        "    # The statement below suspends the execution for the given number of seconds\n",
        "    time.sleep(0.4)\n",
        "\n",
        "  return result.reset_index(drop=True)"
      ]
    },
    {
      "cell_type": "code",
      "execution_count": null,
      "metadata": {
        "id": "VTbYZ9uf5GHG"
      },
      "outputs": [],
      "source": [
        "players_career_stats = get_players_career_stats(current_players_list)\n",
        "players_career_stats.to_csv(\"nba_players_career_stats.csv\")"
      ]
    },
    {
      "cell_type": "markdown",
      "metadata": {
        "id": "i4T4zNKn5GHG"
      },
      "source": [
        "Don't change anything in this cell, just make it run correctly"
      ]
    },
    {
      "cell_type": "code",
      "execution_count": null,
      "metadata": {
        "id": "DhVeL6h75GHG"
      },
      "outputs": [],
      "source": [
        "if players_career_stats.shape == (503, 24):\n",
        "    print('Success!')\n",
        "else:\n",
        "    raise ValueError('The shape is incorrect, please review your function')"
      ]
    },
    {
      "cell_type": "markdown",
      "metadata": {
        "id": "5K2OuPkk5GHH"
      },
      "source": [
        "1.4- Create a function to find players salary for this season. You can get the list of players and salaries from this file: [contracts.csv](https://drive.google.com/file/d/1bxjuIZfMS2_kickukdC3ggdXIVeZE5y7/view?usp=sharing). Download and use this file as input for your function `get_nba_players_salaries()`.\n",
        "\n",
        "Also, inside this function, save the information to a csv called \"nba_players_salary.csv\". Make sure the players names format match the ones in the API, otherwise you won't be able to merge the data later.\n",
        "\n",
        "Hint: Using data from the Basketball Reference page, you will have to solve 3 kinds of problems:\n",
        "\n",
        "1.   Special characters that need to be removed.\n",
        "2.   Duplicated values (for which you should keep just the first value) and,\n",
        "3.   Players names not matching with the ones from the API.\n",
        "\n",
        "The latter problem has multiple causes, one of them is that some names are written with non ascii characters, we advice you to install and use Unidecode library to solve this issue."
      ]
    },
    {
      "cell_type": "code",
      "execution_count": null,
      "metadata": {
        "id": "c-zaew3q5GHH"
      },
      "outputs": [],
      "source": [
        "### Complete in this cell: find players salary, save the information to csv\n",
        "def get_nba_players_salaries(csv_file_path):\n",
        "    \"\"\"This function fetchs the players list from the 'contracts.csv' file using a listed players in a dataframe\n",
        "        and merges two dataframes with IDs as key values\n",
        "\n",
        "    :return: Pandas Dataframe\n",
        "    \"\"\"\n",
        "\n",
        "    from unidecode import unidecode\n",
        "\n",
        "    # The statement below reads the .csv file\n",
        "    df = pd.read_csv(csv_file_path, skiprows=1, usecols=['Player','2021-22'])\n",
        "    # The statement below drop duplicate players, however keeps the first\n",
        "    df = df.drop_duplicates(subset=['Player'], keep='first')\n",
        "    # The statement below removes the string characters after the backslash in the whole column\n",
        "    df['Player'] = df['Player'].str.split('\\\\', expand=True)[0]\n",
        "    # The statement below removes the '$' symbol in the whole column\n",
        "    df['2021-22'] = df['2021-22'].str.replace('$', '', regex=True)\n",
        "    # The statement below renames the columns\n",
        "    df.rename(columns = {'Player':'PLAYER_NAME', '2021-22':'SALARY'}, inplace = True)\n",
        "    # The statement below fixes encoding for players names with special characters\n",
        "    df['PLAYER_NAME'] = df['PLAYER_NAME'].apply(unidecode)\n",
        "\n",
        "    # The code below merges the current_players_list PERSON_IDs (key) with the PLAYERS NAMEs\n",
        "    current_players_list = get_and_save_players_list()\n",
        "    current_players_list.rename(columns = {'DISPLAY_FIRST_LAST':'PLAYER_NAME'}, inplace = True)\n",
        "    df = pd.merge(current_players_list, df, on='PLAYER_NAME', how='left')\n",
        "    df = df[['PERSON_ID', 'PLAYER_NAME', 'SALARY']]\n",
        "\n",
        "    return df.reset_index(drop=True)"
      ]
    },
    {
      "cell_type": "code",
      "execution_count": null,
      "metadata": {
        "id": "En4K4c3L5GHH"
      },
      "outputs": [],
      "source": [
        "players_salaries = get_nba_players_salaries(\"contracts.csv\")\n",
        "players_salaries.to_csv(\"nba_players_salary.csv\")"
      ]
    },
    {
      "cell_type": "markdown",
      "metadata": {
        "id": "Yy6UkG8h5GHH"
      },
      "source": [
        "Don't change anything in this cell, just make it run correctly"
      ]
    },
    {
      "cell_type": "code",
      "execution_count": null,
      "metadata": {
        "id": "hr9EmjYN5GHI"
      },
      "outputs": [],
      "source": [
        "index_salary_1 = players_salaries[players_salaries['PLAYER_NAME']=='Kyrie Irving'].index.values[0]\n",
        "index_salary_2 = players_salaries[players_salaries['PLAYER_NAME']=='Luke Kennard'].index.values[0]\n",
        "\n",
        "if players_salaries.SALARY.loc[index_salary_1] == '34916200' and players_salaries.SALARY.loc[index_salary_2] == '12727273':\n",
        "    print('Success!')\n",
        "else:\n",
        "    raise ValueError('The salaries are incorrect, please review your function')"
      ]
    },
    {
      "cell_type": "markdown",
      "metadata": {
        "id": "8z1Ebrb45GHI"
      },
      "source": [
        "1.5- Create a function to merge the created dataframes: players_personal_info, players_career_stats, players_next_game, players_salaries. For each dataframe, select only the subset of columns needed to create the dataset described in section \"The Dataset\"\n",
        "\n",
        "    - Players info: \"PLAYER_NAME\", \"TEAM_NAME\", \"POSITION\", \"HEIGHT\", \"WEIGHT\", \"COUNTRY\", \"BIRTHDATE\", \"SEASON_EXP\", \"DRAFT_NUMBER\"\n",
        "    - Players stats: \"GP\", \"MIN\", \"PTS\", \"REB\", \"AST\", \"STL\", \"BLK\"\n",
        "    - Misc: \"SALARY\"\n",
        "\n",
        "Save the result to a csv called \"raw_nba_players_dataset.csv\"\n",
        "\n",
        "Hint: Before merging the data, you should make sure all four dataframes have the same length, are indexed by PERSON_ID and have the same keys"
      ]
    },
    {
      "cell_type": "code",
      "execution_count": null,
      "metadata": {
        "id": "Umisskoc5GHI"
      },
      "outputs": [],
      "source": [
        "### Complete in this cell: merge the dataframes\n",
        "\n",
        "def merge_dataframes(players_personal_info, players_career_stats, players_salaries):\n",
        "    \"\"\"This function merges all dataframes using IDs as key values\n",
        "\n",
        "    :return: Pandas Dataframe\n",
        "    \"\"\"\n",
        "    # The code below merges to the left the players list that contains the IDs (keys) with the personal information dataframe\n",
        "    current_players_list = get_and_save_players_list()\n",
        "    info = pd.read_csv(\"nba_players_personal_info.csv\")\n",
        "    cpl_info = pd.merge(current_players_list, info, on='PERSON_ID', how='left')\n",
        "\n",
        "    # The code below merges to the left the new dataframe with the players statistics dataframe\n",
        "    stats = pd.read_csv(\"nba_players_career_stats.csv\")\n",
        "    stats.rename(columns = {'PLAYER_ID':'PERSON_ID'}, inplace = True)\n",
        "    cpl_info_stats = pd.merge(cpl_info, stats, on='PERSON_ID', how='left')\n",
        "\n",
        "    # The code below merges to the left the new dataframe with the salaries dataframe\n",
        "    salaries = pd.read_csv(\"nba_players_salary.csv\")\n",
        "    cpl_info_stats_salaries = pd.merge(cpl_info_stats, salaries, on='PERSON_ID', how='left')\n",
        "\n",
        "    # The statement below allows the full wide view of the columns as we have merged many columns\n",
        "    pd.set_option('display.max_columns', None)\n",
        "\n",
        "    # This last code selects the columns required for the project\n",
        "    df = cpl_info_stats_salaries[['PERSON_ID', 'PLAYER_NAME', 'TEAM_NAME_y', 'POSITION', 'HEIGHT', 'WEIGHT', 'COUNTRY', 'BIRTHDATE', 'SEASON_EXP', 'DRAFT_NUMBER', 'GP', 'MIN', 'PTS', 'REB', 'AST', 'STL', 'BLK', 'SALARY']]\n",
        "    df.columns = df.columns.str.replace('TEAM_NAME_y', 'TEAM_NAME')\n",
        "    df = df.set_index('PERSON_ID')\n",
        "\n",
        "    return df"
      ]
    },
    {
      "cell_type": "code",
      "execution_count": null,
      "metadata": {
        "id": "PvpHDQjp5GHJ"
      },
      "outputs": [],
      "source": [
        "raw_players_dataset = merge_dataframes(players_personal_info, players_career_stats, players_salaries)\n",
        "raw_players_dataset.to_csv(\"raw_nba_players_dataset.csv\")"
      ]
    },
    {
      "cell_type": "markdown",
      "metadata": {
        "id": "XtybbqZy5GHJ"
      },
      "source": [
        "*Don't change anything in this cell, just make it run correctly*"
      ]
    },
    {
      "cell_type": "code",
      "execution_count": null,
      "metadata": {
        "id": "HGngRejs5GHJ"
      },
      "outputs": [],
      "source": [
        "if raw_players_dataset.shape == (503, 17):\n",
        "    print('Success!')\n",
        "else:\n",
        "    raise ValueError('The shape is incorrect, please review your function')"
      ]
    },
    {
      "cell_type": "markdown",
      "metadata": {
        "id": "DBbq9wk75GHJ"
      },
      "source": [
        "##2. Data Cleaning and Preprocessing"
      ]
    },
    {
      "cell_type": "markdown",
      "metadata": {
        "id": "1R0dCVLz5GHJ"
      },
      "source": [
        "There are several steps that you will have to follow, depending on where you have collected the data some information might be missing.  \n",
        "\n",
        "- Height and weight might need to be converted to the metric system\n",
        "- Players that have no team assigned should be removed from the dataset\n",
        "- Players with no contracts (meaning they don't have a salary defined) should be removed from the dataset\n",
        "- If the \"position\" data is ambiguous (listed at multiple positions), use the first value\n",
        "- If the player does not have height or weight data, use the average for its position as its value"
      ]
    },
    {
      "cell_type": "markdown",
      "metadata": {
        "id": "FQlCl-LD5GHJ"
      },
      "source": [
        "2.1- Create a copy of your dataset named \"working_df\", remove all players with no teams or salary"
      ]
    },
    {
      "cell_type": "code",
      "execution_count": null,
      "metadata": {
        "id": "PuGRz8vr5GHK"
      },
      "outputs": [],
      "source": [
        "### Complete in this cell: copy the dataset and drop NaNs in team or salary\n",
        "def copy_and_delete_nan(players_dataset):\n",
        "    \"\"\"This function copies the raw players dataset and removes de NaN values in TEAM and SALARY columns\n",
        "\n",
        "    :return: Pandas Dataframe\n",
        "    \"\"\"\n",
        "    df = pd.read_csv(players_dataset, index_col=0)\n",
        "    # Next statement removes players without a team or withouth a salary\n",
        "    df = df.dropna(subset=['TEAM_NAME', 'SALARY'])\n",
        "\n",
        "    return df"
      ]
    },
    {
      "cell_type": "code",
      "execution_count": null,
      "metadata": {
        "id": "zyqdYxDg5GHK"
      },
      "outputs": [],
      "source": [
        "players_dataset = \"raw_nba_players_dataset.csv\""
      ]
    },
    {
      "cell_type": "code",
      "execution_count": null,
      "metadata": {
        "id": "9oN5ybW15GHK"
      },
      "outputs": [],
      "source": [
        "working_df = copy_and_delete_nan(players_dataset)"
      ]
    },
    {
      "cell_type": "markdown",
      "metadata": {
        "id": "DrXNfWBw5GHK"
      },
      "source": [
        "Don't change anything in this cell, just make it run correctly"
      ]
    },
    {
      "cell_type": "code",
      "execution_count": null,
      "metadata": {
        "id": "CMSwImSm5GHK"
      },
      "outputs": [],
      "source": [
        "if working_df.shape == (428, 17):\n",
        "    print('Success!')\n",
        "else:\n",
        "    raise ValueError('The shape is incorrect, please review your function')"
      ]
    },
    {
      "cell_type": "markdown",
      "metadata": {
        "id": "zApubBnR5GHL"
      },
      "source": [
        "2.2- Cast Salary and Birthday columns to its corresponding type (int, datetime"
      ]
    },
    {
      "cell_type": "code",
      "execution_count": null,
      "metadata": {
        "id": "5MVyHavQ5GHL"
      },
      "outputs": [],
      "source": [
        "### Complete in this cell: cast all columns to its type\n",
        "def cast_columns(working_df):\n",
        "    \"\"\"This function converts the datatypes from the columns BIRTHDATE and SALARY\n",
        "\n",
        "    :return: Pandas Dataframe\n",
        "    \"\"\"\n",
        "    # The statement below converts Birthdate column type to datetime\n",
        "    working_df['BIRTHDATE'] = working_df['BIRTHDATE'].astype(np.dtype('<M8[ns]'))\n",
        "    # The statement below converts Salary column type to integer\n",
        "    working_df['SALARY'] = working_df['SALARY'].astype('int64')\n",
        "\n",
        "    return working_df"
      ]
    },
    {
      "cell_type": "code",
      "execution_count": null,
      "metadata": {
        "id": "9hiuUEiS5GHL"
      },
      "outputs": [],
      "source": [
        "cast_columns(working_df)"
      ]
    },
    {
      "cell_type": "markdown",
      "metadata": {
        "id": "3om848aO5GHL"
      },
      "source": [
        "Don't change anything in this cell, just make it run correctly"
      ]
    },
    {
      "cell_type": "code",
      "execution_count": null,
      "metadata": {
        "id": "WXFssxYs5GHL"
      },
      "outputs": [],
      "source": [
        "if working_df.SALARY.dtype == 'int64' and working_df.BIRTHDATE.dtype == '<M8[ns]':\n",
        "    print('Success!')\n",
        "else:\n",
        "    raise ValueError('The types are incorrect, please review your function')"
      ]
    },
    {
      "cell_type": "markdown",
      "metadata": {
        "id": "KUbdJlFq5GHM"
      },
      "source": [
        "2.3- Create a function that converts the height column from height in feet and inches to centimeter"
      ]
    },
    {
      "cell_type": "code",
      "execution_count": null,
      "metadata": {
        "id": "BwDLitIz5GHM"
      },
      "outputs": [],
      "source": [
        "### Complete in this cell: convert height column\n",
        "def convert_height_column(working_df):\n",
        "    \"\"\"This function converts the height values from Imperial system to Metric system\n",
        "\n",
        "    :return: Pandas Dataframe\n",
        "    \"\"\"\n",
        "    # The statement below converts the Height column from height in feet and inches to height in centimeters\n",
        "    working_df['HEIGHT'] = round(working_df['HEIGHT'].str.split(pat = '-', expand = True).astype(int).dot([30.48, 2.54]), 0).astype(int)\n",
        "\n",
        "    return working_df"
      ]
    },
    {
      "cell_type": "code",
      "execution_count": null,
      "metadata": {
        "id": "s8rkTzWG5GHM"
      },
      "outputs": [],
      "source": [
        "convert_height_column(working_df)"
      ]
    },
    {
      "cell_type": "markdown",
      "metadata": {
        "id": "eeHCQOSD5GHM"
      },
      "source": [
        "*Don't change anything in this cell, just make it run correctly*"
      ]
    },
    {
      "cell_type": "code",
      "execution_count": null,
      "metadata": {
        "id": "gEgYaXEP5GHM"
      },
      "outputs": [],
      "source": [
        "index_df_1 = working_df[working_df['PLAYER_NAME']=='Kyrie Irving'].index.values[0]\n",
        "index_df_2 = working_df[working_df['PLAYER_NAME']=='Luke Kennard'].index.values[0]\n",
        "\n",
        "if working_df.HEIGHT.loc[index_df_1] == 188 and working_df.HEIGHT.loc[index_df_2] == 196:\n",
        "    print('Success!')\n",
        "else:\n",
        "    raise ValueError('The values are incorrect, please review your function')"
      ]
    },
    {
      "cell_type": "markdown",
      "metadata": {
        "id": "DG-65Dim5GHN"
      },
      "source": [
        "2.4- Create a function that converts the weight column from pounds to kilograms"
      ]
    },
    {
      "cell_type": "code",
      "execution_count": null,
      "metadata": {
        "id": "6Z1kkwbc5GHN"
      },
      "outputs": [],
      "source": [
        "### Complete in this cell: convert weight column\n",
        "def convert_weight_column(working_df):\n",
        "    \"\"\"This function converts the weight values from Imperial system to Metric system\n",
        "\n",
        "    :return: Pandas Dataframe\n",
        "    \"\"\"\n",
        "    # The statement below converts the Weight column from weight in pounds to kilos\n",
        "    working_df['WEIGHT'] = round(working_df['WEIGHT'].astype(float) * 0.45359237, 0).astype(int)\n",
        "\n",
        "    return working_df"
      ]
    },
    {
      "cell_type": "code",
      "execution_count": null,
      "metadata": {
        "id": "ZivYU5ZM5GHN"
      },
      "outputs": [],
      "source": [
        "convert_weight_column(working_df)"
      ]
    },
    {
      "cell_type": "markdown",
      "metadata": {
        "id": "k3SbFolG5GHN"
      },
      "source": [
        "*Don't change anything in this cell, just make it run correctly*"
      ]
    },
    {
      "cell_type": "code",
      "execution_count": null,
      "metadata": {
        "id": "8hf3r5c65GHN"
      },
      "outputs": [],
      "source": [
        "if working_df.WEIGHT.loc[index_df_1] == 88 and working_df.WEIGHT.loc[index_df_2] == 93:\n",
        "    print('Success!')\n",
        "else:\n",
        "    raise ValueError('The values are incorrect, please review your function')"
      ]
    },
    {
      "cell_type": "markdown",
      "metadata": {
        "id": "X6rSfLGG5GHN"
      },
      "source": [
        "2.5- Create a function that calculates the age in (years, months, days) and saves it in a new string column named \"AGE\", example: \"22 years, 5 months, 25 days\""
      ]
    },
    {
      "cell_type": "code",
      "execution_count": null,
      "metadata": {
        "id": "Y60XTyhX5GHN"
      },
      "outputs": [],
      "source": [
        "### Complete in this cell: add age column\n",
        "def add_age_column(working_df):\n",
        "    \"\"\"This function creates a columns that expresses the age as a string\n",
        "\n",
        "    :return: Pandas Dataframe\n",
        "    \"\"\"\n",
        "\n",
        "    from datetime import datetime, date\n",
        "    from dateutil import relativedelta\n",
        "\n",
        "    ages = list()\n",
        "    # The code belows iterates over the BIRTHDATE colums to convert the values to a string\n",
        "    for i in working_df['BIRTHDATE']:\n",
        "        # The statement below assigns a variable to the current date\n",
        "        current_date = datetime.date(datetime.now())\n",
        "\n",
        "        # The code below removes the symbol '-' and converts the values to various strings\n",
        "        year = int(i.strftime('%Y-%m-%d').split('-')[0])\n",
        "        month = int(i.strftime('%Y-%m-%d').split('-')[1])\n",
        "        day = int(i.strftime('%Y-%m-%d').split('-')[2])\n",
        "        start_date = date(year, month, day)\n",
        "\n",
        "        # The code below combines the new strings to a single one\n",
        "        delta = relativedelta.relativedelta(current_date, start_date)\n",
        "        ages.append(f'{delta.years} Years {delta.month} Months {delta.days} Days')\n",
        "\n",
        "    working_df['AGE'] = ages\n",
        "\n",
        "    return working_df"
      ]
    },
    {
      "cell_type": "code",
      "execution_count": null,
      "metadata": {
        "id": "tUQI5kkI5GHP"
      },
      "outputs": [],
      "source": [
        "add_age_column(working_df)"
      ]
    },
    {
      "cell_type": "markdown",
      "metadata": {
        "id": "RV9e0mPq5GHQ"
      },
      "source": [
        "2.6- Create a function that takes care of the disambiguation of the \"POSITION\" column. Should replace all positions that are mixed with the first one listed."
      ]
    },
    {
      "cell_type": "code",
      "execution_count": null,
      "metadata": {
        "id": "4kVw0U9e5GHQ"
      },
      "outputs": [],
      "source": [
        "### Complete in this cell: disambiguation of the position column\n",
        "def update_position(working_df):\n",
        "    \"\"\"This function selects the first players position listed\n",
        "\n",
        "    :return: Pandas Dataframe\n",
        "    \"\"\"\n",
        "    # The statement below removes the characters next to the symbol '-'\n",
        "    working_df['POSITION'] = working_df['POSITION'].str.split(pat='-', expand=True)[0]\n",
        "\n",
        "    return working_df"
      ]
    },
    {
      "cell_type": "code",
      "execution_count": null,
      "metadata": {
        "id": "x_tRinOI5GHQ"
      },
      "outputs": [],
      "source": [
        "update_position(working_df)"
      ]
    },
    {
      "cell_type": "markdown",
      "metadata": {
        "id": "8Pon6zZM5GHQ"
      },
      "source": [
        "*Don't change anything in this cell, just make it run correctly*"
      ]
    },
    {
      "cell_type": "code",
      "execution_count": null,
      "metadata": {
        "id": "Tc_AIdcw5GHQ"
      },
      "outputs": [],
      "source": [
        "if working_df.POSITION.loc[index_df_1] == 'Guard' and working_df.POSITION.loc[index_df_2] == 'Guard':\n",
        "    print('Success!')\n",
        "else:\n",
        "    raise ValueError('The values are incorrect, please review your function')"
      ]
    },
    {
      "cell_type": "markdown",
      "metadata": {
        "id": "ZckHEsRN5GHQ"
      },
      "source": [
        "2.7- Review that the working dataset has all requested columns with its corresponding datatypes and save it as a csv with name \"nba_players_processed_dataset.csv\""
      ]
    },
    {
      "cell_type": "code",
      "execution_count": null,
      "metadata": {
        "id": "13CvfJoN5GHR"
      },
      "outputs": [],
      "source": [
        "working_df.to_csv(\"nba_players_processed_dataset.csv\")"
      ]
    },
    {
      "cell_type": "markdown",
      "metadata": {
        "id": "htSH6Jcv5GHR"
      },
      "source": [
        "##3. Analyzing and Visualizing data"
      ]
    },
    {
      "cell_type": "markdown",
      "metadata": {
        "id": "oU-IoaMt5GHR"
      },
      "source": [
        "Now that we have the data, let's do some work"
      ]
    },
    {
      "cell_type": "markdown",
      "metadata": {
        "id": "S8YwaNvR5GHR"
      },
      "source": [
        "3.1- Calculate and print the following metrics:\n",
        "\n",
        "    - General metrics:\n",
        "        - Total number of players\n",
        "        - Number of USA born players\n",
        "        - Number of foreign players\n",
        "        - Number of players per position\n",
        "        - Number of players per team\n",
        "        - Number of rookies (first year players)\n",
        "    - Players description\n",
        "        - Average player age (in years)\n",
        "        - Youngest player age (as a string, like: \"22 years, 5 months, 25 days\")\n",
        "        - Oldest player age (as a string, like: \"40 years, 2 months, 3 days\")\n",
        "        - Min and Max players height\n",
        "        - Average height of players per position\n",
        "    - Contracts\n",
        "        - Min and Max salary of all players\n",
        "        - Mean and Median salary of all players\n",
        "\n",
        "Bonus: if you can, calculate how many players retired between the end of the 2020-2021 season and the start of the 2021-22 season."
      ]
    },
    {
      "cell_type": "code",
      "execution_count": null,
      "metadata": {
        "id": "MIyB3DFs5GHR"
      },
      "outputs": [],
      "source": [
        "### Complete in this cell: print general metrics\n",
        "\n",
        "# The code below creates a dataframe to show the total count (number) of players\n",
        "df = pd.read_csv(\"nba_players_processed_dataset.csv\")\n",
        "\n",
        "pd.DataFrame (\n",
        "    {\n",
        "        'Count': [len(pd.unique(df['PERSON_ID'])), len(df[df['COUNTRY'] == 'USA']), len(df[df['COUNTRY'] != 'USA'])]\n",
        "    },\n",
        "    index=[\n",
        "        'Total Number of Players', 'Number of USA born players', 'Number of foreign players'\n",
        "    ]\n",
        ")"
      ]
    },
    {
      "cell_type": "code",
      "execution_count": null,
      "metadata": {
        "id": "6BYfsvDs5GHR"
      },
      "outputs": [],
      "source": [
        "# The code below creates a dataframe to show the total count (number) of players per position in which they play\n",
        "pd.DataFrame (\n",
        "    {\n",
        "        'Number of Players per Position': [len(df[df['POSITION'] == 'Forward']), len(df[df['POSITION'] == 'Center']), len(df[df['POSITION'] == 'Guard'])]\n",
        "    },\n",
        "    index=[\n",
        "        'Forward', 'Center', 'Guard'\n",
        "    ]\n",
        ")"
      ]
    },
    {
      "cell_type": "code",
      "execution_count": null,
      "metadata": {
        "id": "lr3QuxTS5GHR"
      },
      "outputs": [],
      "source": [
        "# The statement below displays the number of players per team\n",
        "df['TEAM_NAME'].value_counts(ascending=False)"
      ]
    },
    {
      "cell_type": "code",
      "execution_count": null,
      "metadata": {
        "id": "qo3WYp6f5GHS"
      },
      "outputs": [],
      "source": [
        "# The code below creates a dataframe to show the total count (number) of players considered as rookies (players with a first contract with less than four years)\n",
        "pd.DataFrame (\n",
        "    {\n",
        "        'Number of rookies': [len(df[df['SEASON_EXP'] <= 4])]\n",
        "    },\n",
        "    index=[\n",
        "        'Quantity'\n",
        "    ]\n",
        ")"
      ]
    },
    {
      "cell_type": "code",
      "execution_count": null,
      "metadata": {
        "id": "g4dAJ8jo5GHS"
      },
      "outputs": [],
      "source": [
        "# The statement below creates a variable for the birthdate column in the dataframe\n",
        "df_age = df['BIRTHDATE']\n",
        "\n",
        "# The code below creates a function to convert date to countable numbers\n",
        "def age(born):\n",
        "    \"\"\"This function converts a given date to age in number\n",
        "\n",
        "    :return: Pandas Dataframe\n",
        "    \"\"\"\n",
        "\n",
        "    from datetime import datetime, date\n",
        "\n",
        "    born = datetime.strptime(born, '%Y-%m-%d').date()\n",
        "    today = date.today()\n",
        "    return today.year - born.year - ((today.month, today.day) < (born.month, born.day))\n",
        "\n",
        "df_age['Age'] = df_age.apply(age)\n",
        "df['AGE_IN_YEARS'] = df_age['Age']\n",
        "\n",
        "# The code below creates a dataframe to show players description\n",
        "pd.DataFrame (\n",
        "    {\n",
        "        'Players Description': [round(df['AGE_IN_YEARS'].mean(), 2), df['AGE_IN_YEARS'].min(), df['AGE_IN_YEARS'].max(), df['HEIGHT'].min(), df['HEIGHT'].max()]\n",
        "    },\n",
        "    index=[\n",
        "        'Average player age (in years)', 'Youngest player age', 'Oldest player age', 'Min height', 'Max height'\n",
        "    ]\n",
        ")"
      ]
    },
    {
      "cell_type": "code",
      "execution_count": null,
      "metadata": {
        "id": "4go1EROD5GHS"
      },
      "outputs": [],
      "source": [
        "# The statement below creates a dataframe to show players average height per position\n",
        "df.groupby(\"POSITION\", as_index=False).HEIGHT.mean().sort_values('HEIGHT', ascending=False)"
      ]
    },
    {
      "cell_type": "code",
      "execution_count": null,
      "metadata": {
        "id": "CPrq6i9l5GHS"
      },
      "outputs": [],
      "source": [
        "### Complete in this cell: Contracts\n",
        "\n",
        "# The code below creates a dataframe to show players basic statistical data regarding their salaries\n",
        "df = pd.read_csv(\"nba_players_processed_dataset.csv\")\n",
        "\n",
        "pd.DataFrame (\n",
        "    {\n",
        "        'Contracts': [df['SALARY'].min(), df['SALARY'].max(), df['SALARY'].mean(), df['SALARY'].median()]\n",
        "    },\n",
        "    index=[\n",
        "        'Min salary of all players', 'Max salary of all players', 'Mean salary of all players', 'Median salary of all players'\n",
        "    ]\n",
        ")"
      ]
    },
    {
      "cell_type": "markdown",
      "metadata": {
        "id": "AXiU75Dh5GHS"
      },
      "source": [
        "3.2- Plot the relationship between scoring (points per game) and salary of all players, the players positions should also be visible."
      ]
    },
    {
      "cell_type": "code",
      "execution_count": null,
      "metadata": {
        "id": "zk_sNBbS5GHT"
      },
      "outputs": [],
      "source": [
        "# The code below creates two columns: points per game and salary in millions in order to graph their relationships\n",
        "df['SALARY_IN_MILLIONS'] = df['SALARY']/1000000\n",
        "df['POINTS_PER_GAME'] = df['PTS']/df['GP']\n",
        "df['SALARY_IN_MILLIONS'] = df['SALARY_IN_MILLIONS'].round(decimals = 2)\n",
        "df['POINTS_PER_GAME'] = df['POINTS_PER_GAME'].round(decimals = 2)\n"
      ]
    },
    {
      "cell_type": "code",
      "execution_count": null,
      "metadata": {
        "id": "PrzUbk8a5GHT"
      },
      "outputs": [],
      "source": [
        "### Complete in this cell: Relationship between scoring and salary (in millions of dollars)\n",
        "\n",
        "# The statement below plots the relationship between points per game, salary in millions and the position for each player\n",
        "sns.pairplot(df, x_vars='POINTS_PER_GAME', y_vars='SALARY_IN_MILLIONS', hue='POSITION', diag_kind='kde', height=6).set(title='PPS vs Salary (in Millions) per position');"
      ]
    },
    {
      "cell_type": "markdown",
      "metadata": {
        "id": "KEOcGDgr5GHT"
      },
      "source": [
        "3.3- Now plot assists-vs-salary and rebounding-vs-salary"
      ]
    },
    {
      "cell_type": "code",
      "execution_count": null,
      "metadata": {
        "id": "GFhMQTK95GHT"
      },
      "outputs": [],
      "source": [
        "### Complete in this cell: plot assist-vs-salary, rebounding-vs-salary\n",
        "\n",
        "# The statement below plots the relationship between total number of assists per season and salary in millions and the position for each player\n",
        "sns.pairplot(df, x_vars='AST', y_vars='SALARY_IN_MILLIONS', diag_kind='kde', height=6).set(title='Assists vs Salary');"
      ]
    },
    {
      "cell_type": "code",
      "execution_count": null,
      "metadata": {
        "id": "DGXVJwL55GHT"
      },
      "outputs": [],
      "source": [
        "# The statement below plots the relationship between total number of rebounds per season and salary in millions and the position for each player\n",
        "sns.pairplot(df, x_vars='REB', y_vars='SALARY_IN_MILLIONS', diag_kind='kde', height=6).set(title='Rebounds vs Salary');"
      ]
    },
    {
      "cell_type": "markdown",
      "metadata": {
        "id": "uDRzS-zW5GHU"
      },
      "source": [
        "3.4- When NBA players enter the league, they have low value salaries during what is called their \"rookie contract\". This means that it doesn't matter how well the player performs, they can't have large salaries. This can distort our understanding of how much teams value each skill, as a player could score 50 points a game and still earn just a couple of millions. So, lets now plot points, assists and rebounding vs salary, but only for players that have more than 4 years of experience (the typical length of a rookie contract)"
      ]
    },
    {
      "cell_type": "code",
      "execution_count": null,
      "metadata": {
        "id": "GwDM5h9D5GHU"
      },
      "outputs": [],
      "source": [
        "### Complete in this cell: non rookie contracts\n",
        "# The statement below creates an auxiliar dataframe with only non rookie players\n",
        "non_rookie_df = df[df['SEASON_EXP'] > 4]\n",
        "\n",
        "# The statement below plots the relationship between points per game, salary in millions and the position for each non rookie player\n",
        "sns.pairplot(non_rookie_df, x_vars='POINTS_PER_GAME', y_vars='SALARY_IN_MILLIONS', hue='POSITION', diag_kind='kde', height=6).set(title='PPS vs Salary (in Millions) per position (non rookies)');"
      ]
    },
    {
      "cell_type": "code",
      "execution_count": null,
      "metadata": {
        "id": "YuTjSRmK5GHU"
      },
      "outputs": [],
      "source": [
        "# The statement below plots the relationship between total number of assists per season and salary in millions and the position for each non rookie player\n",
        "sns.pairplot(non_rookie_df, x_vars='AST', y_vars='SALARY_IN_MILLIONS', diag_kind='kde', height=6).set(title='Assists vs Salary (in Millions) non rookies');"
      ]
    },
    {
      "cell_type": "code",
      "execution_count": null,
      "metadata": {
        "id": "wpkrnIES5GHU"
      },
      "outputs": [],
      "source": [
        "# The statement below plots the relationship between total number of rebounds per season and salary in millions and the position for each non rookie player\n",
        "sns.pairplot(non_rookie_df, x_vars='REB', y_vars='SALARY_IN_MILLIONS', diag_kind='kde', height=6).set(title='Rebounds vs Salary (in Millions) non rookies');"
      ]
    },
    {
      "cell_type": "markdown",
      "metadata": {
        "id": "tEnC3bMJ5GHU"
      },
      "source": [
        "3.5- Plot the scoring average grouped by position, we want to be able to see median, quartiles, etc"
      ]
    },
    {
      "cell_type": "code",
      "execution_count": null,
      "metadata": {
        "id": "SHUEqbQ35GHU"
      },
      "outputs": [],
      "source": [
        "### Complete in this cell: Scoring average grouped by position\n",
        "\n",
        "# The code below plots scoring averages per position\n",
        "sns.boxplot( y=df['POSITION'], x=df['PTS']);\n",
        "plt.show()"
      ]
    },
    {
      "cell_type": "markdown",
      "metadata": {
        "id": "M1krEbcF5GHV"
      },
      "source": [
        "3.6- Plot the Height distribution of all players"
      ]
    },
    {
      "cell_type": "code",
      "execution_count": null,
      "metadata": {
        "id": "fL8qsJAM5GHV"
      },
      "outputs": [],
      "source": [
        "### Complete in this cell: height distribution\n",
        "\n",
        "#The statement below plots the height distribution\n",
        "sns.histplot(df['HEIGHT']).set(title='Height distribution');"
      ]
    }
  ],
  "metadata": {
    "kernelspec": {
      "display_name": "Python 3.10.4 64-bit",
      "language": "python",
      "name": "python3"
    },
    "language_info": {
      "codemirror_mode": {
        "name": "ipython",
        "version": 3
      },
      "file_extension": ".py",
      "mimetype": "text/x-python",
      "name": "python",
      "nbconvert_exporter": "python",
      "pygments_lexer": "ipython3",
      "version": "3.10.4"
    },
    "orig_nbformat": 4,
    "vscode": {
      "interpreter": {
        "hash": "369f2c481f4da34e4445cda3fffd2e751bd1c4d706f27375911949ba6bb62e1c"
      }
    },
    "colab": {
      "provenance": [],
      "collapsed_sections": [
        "DBbq9wk75GHJ",
        "htSH6Jcv5GHR"
      ]
    }
  },
  "nbformat": 4,
  "nbformat_minor": 0
}